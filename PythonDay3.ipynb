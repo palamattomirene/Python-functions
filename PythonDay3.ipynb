{
 "cells": [
  {
   "cell_type": "markdown",
   "id": "6d5964a2",
   "metadata": {},
   "source": [
    "Functions"
   ]
  },
  {
   "cell_type": "code",
   "execution_count": 1,
   "id": "e17dd4d4",
   "metadata": {},
   "outputs": [],
   "source": [
    "def name_of_function():\n",
    "    print(\"Hello\")"
   ]
  },
  {
   "cell_type": "code",
   "execution_count": 2,
   "id": "8c2aac39",
   "metadata": {},
   "outputs": [
    {
     "name": "stdout",
     "output_type": "stream",
     "text": [
      "Hello\n"
     ]
    }
   ],
   "source": [
    "name_of_function()"
   ]
  },
  {
   "cell_type": "code",
   "execution_count": null,
   "id": "dff78dc2",
   "metadata": {},
   "outputs": [],
   "source": []
  },
  {
   "cell_type": "code",
   "execution_count": 3,
   "id": "5c014826",
   "metadata": {},
   "outputs": [
    {
     "name": "stdout",
     "output_type": "stream",
     "text": [
      "Ask\n",
      "hi\n",
      "Hello\n"
     ]
    }
   ],
   "source": [
    "C = [\"hi\",\"hello\"]\n",
    "user = input(\"Ask\\n\")\n",
    "if user.lower() in C:\n",
    "    name_of_function()"
   ]
  },
  {
   "cell_type": "code",
   "execution_count": 4,
   "id": "f7108752",
   "metadata": {},
   "outputs": [],
   "source": [
    "def name_of_person(name):\n",
    "    print(\"Hello \",name, \"\\nnice to meeet you\")"
   ]
  },
  {
   "cell_type": "markdown",
   "id": "7e05151d",
   "metadata": {},
   "source": [
    "### name = input(\"What is your name ?\\n\")\n",
    "name_of_person(name)"
   ]
  },
  {
   "cell_type": "code",
   "execution_count": 5,
   "id": "c81acb02",
   "metadata": {},
   "outputs": [
    {
     "name": "stdout",
     "output_type": "stream",
     "text": [
      "Sum = 3\n"
     ]
    }
   ],
   "source": [
    "def add_function(num1,num2):\n",
    "    return num1+num2\n",
    "result = add_function(1,2)\n",
    "print(\"Sum =\",result)"
   ]
  },
  {
   "cell_type": "code",
   "execution_count": 7,
   "id": "3faf851e",
   "metadata": {},
   "outputs": [
    {
     "name": "stdout",
     "output_type": "stream",
     "text": [
      "number1\n",
      "88\n",
      "number2\n",
      "78\n",
      "Sum = 166.0\n"
     ]
    }
   ],
   "source": [
    "num1 = float(input(\"number1\\n\"))\n",
    "num2 = float(input(\"number2\\n\"))\n",
    "Sum = add_function(num1,num2)\n",
    "print(\"Sum =\",Sum)"
   ]
  },
  {
   "cell_type": "code",
   "execution_count": 8,
   "id": "d6d69d05",
   "metadata": {},
   "outputs": [
    {
     "name": "stdout",
     "output_type": "stream",
     "text": [
      "Hello Unknown\n"
     ]
    }
   ],
   "source": [
    "def say_hello(name = \"Unknown\"):\n",
    "    print(\"Hello\",name)\n",
    "say_hello()"
   ]
  },
  {
   "cell_type": "code",
   "execution_count": 9,
   "id": "c5389bc4",
   "metadata": {},
   "outputs": [
    {
     "name": "stdout",
     "output_type": "stream",
     "text": [
      "Hello Irene\n"
     ]
    }
   ],
   "source": [
    "say_hello(\"Irene\")"
   ]
  },
  {
   "cell_type": "code",
   "execution_count": 10,
   "id": "cac32e0b",
   "metadata": {},
   "outputs": [],
   "source": [
    "## function for defining even check\n",
    "\n",
    "def even_check(number):\n",
    "    return number%2==0"
   ]
  },
  {
   "cell_type": "code",
   "execution_count": 11,
   "id": "d5dc9f94",
   "metadata": {},
   "outputs": [
    {
     "data": {
      "text/plain": [
       "False"
      ]
     },
     "execution_count": 11,
     "metadata": {},
     "output_type": "execute_result"
    }
   ],
   "source": [
    "even_check(5)"
   ]
  },
  {
   "cell_type": "code",
   "execution_count": 12,
   "id": "cfc41851",
   "metadata": {},
   "outputs": [
    {
     "data": {
      "text/plain": [
       "True"
      ]
     },
     "execution_count": 12,
     "metadata": {},
     "output_type": "execute_result"
    }
   ],
   "source": [
    "even_check(4)"
   ]
  },
  {
   "cell_type": "code",
   "execution_count": 13,
   "id": "12923e41",
   "metadata": {},
   "outputs": [],
   "source": [
    "##function gives True, if any number is even inside a list\n",
    "\n",
    "def even_checklist(num_list):\n",
    "    for num in num_list:\n",
    "        if num % 2 ==0:\n",
    "            return True\n",
    "        "
   ]
  },
  {
   "cell_type": "code",
   "execution_count": 14,
   "id": "d89b3547",
   "metadata": {},
   "outputs": [
    {
     "data": {
      "text/plain": [
       "True"
      ]
     },
     "execution_count": 14,
     "metadata": {},
     "output_type": "execute_result"
    }
   ],
   "source": [
    "even_checklist([1,2,3,4])"
   ]
  },
  {
   "cell_type": "code",
   "execution_count": 15,
   "id": "ce6103c7",
   "metadata": {},
   "outputs": [],
   "source": [
    "even_checklist([1,3,5])"
   ]
  },
  {
   "cell_type": "code",
   "execution_count": 16,
   "id": "e98d2af7",
   "metadata": {},
   "outputs": [],
   "source": [
    "def even_checklist(num_list):\n",
    "    for num in num_list:\n",
    "        if num % 2 ==0:\n",
    "            return True\n",
    "        else:\n",
    "            return False"
   ]
  },
  {
   "cell_type": "code",
   "execution_count": 17,
   "id": "71eea0ef",
   "metadata": {},
   "outputs": [
    {
     "data": {
      "text/plain": [
       "False"
      ]
     },
     "execution_count": 17,
     "metadata": {},
     "output_type": "execute_result"
    }
   ],
   "source": [
    "even_checklist([1,2,3,4])"
   ]
  },
  {
   "cell_type": "code",
   "execution_count": 18,
   "id": "3bd36d7e",
   "metadata": {},
   "outputs": [],
   "source": [
    "def even_checklist(num_list):\n",
    "    for num in num_list:\n",
    "        if num % 2 ==0:\n",
    "            return True\n",
    "    return False\n",
    "            "
   ]
  },
  {
   "cell_type": "code",
   "execution_count": 19,
   "id": "6dc95542",
   "metadata": {},
   "outputs": [
    {
     "data": {
      "text/plain": [
       "True"
      ]
     },
     "execution_count": 19,
     "metadata": {},
     "output_type": "execute_result"
    }
   ],
   "source": [
    "even_checklist([1,2,3,4])"
   ]
  },
  {
   "cell_type": "code",
   "execution_count": 20,
   "id": "4b47579a",
   "metadata": {},
   "outputs": [
    {
     "data": {
      "text/plain": [
       "False"
      ]
     },
     "execution_count": 20,
     "metadata": {},
     "output_type": "execute_result"
    }
   ],
   "source": [
    "even_checklist([1,3,5])"
   ]
  },
  {
   "cell_type": "code",
   "execution_count": 21,
   "id": "5f009d14",
   "metadata": {},
   "outputs": [
    {
     "data": {
      "text/plain": [
       "False"
      ]
     },
     "execution_count": 21,
     "metadata": {},
     "output_type": "execute_result"
    }
   ],
   "source": [
    "list1 = [23,45,67]\n",
    "even_checklist(list1)"
   ]
  },
  {
   "cell_type": "code",
   "execution_count": 22,
   "id": "5fd36a68",
   "metadata": {},
   "outputs": [
    {
     "data": {
      "text/plain": [
       "True"
      ]
     },
     "execution_count": 22,
     "metadata": {},
     "output_type": "execute_result"
    }
   ],
   "source": [
    "list1.append(88)\n",
    "even_checklist(list1)"
   ]
  },
  {
   "cell_type": "code",
   "execution_count": 23,
   "id": "dce84963",
   "metadata": {},
   "outputs": [],
   "source": [
    "def even_numlist(num_list):\n",
    "    even_list = []\n",
    "    for num in num_list:\n",
    "        if num%2 == 0:\n",
    "           even_list.append(num)\n",
    "        else:\n",
    "            pass\n",
    "    return even_list"
   ]
  },
  {
   "cell_type": "code",
   "execution_count": 24,
   "id": "42cc6d73",
   "metadata": {},
   "outputs": [
    {
     "data": {
      "text/plain": [
       "[66, 34, 12, 32, 66, 44]"
      ]
     },
     "execution_count": 24,
     "metadata": {},
     "output_type": "execute_result"
    }
   ],
   "source": [
    "list3 = [66,34,12,32,55,89,33,66,44]\n",
    "even_numlist(list3)"
   ]
  },
  {
   "cell_type": "code",
   "execution_count": 25,
   "id": "80234768",
   "metadata": {},
   "outputs": [
    {
     "name": "stdout",
     "output_type": "stream",
     "text": [
      "s\n"
     ]
    }
   ],
   "source": [
    "for l in \"sammy\":\n",
    "    if l == 'a':\n",
    "        break\n",
    "    print(l)"
   ]
  },
  {
   "cell_type": "code",
   "execution_count": 26,
   "id": "d26c545d",
   "metadata": {},
   "outputs": [
    {
     "name": "stdout",
     "output_type": "stream",
     "text": [
      "('APPL', 800)\n",
      "('GOOG', 1000)\n",
      "('MSFT', 900)\n"
     ]
    }
   ],
   "source": [
    "## Returning multiple items from the function with tuple unpacking\n",
    "\n",
    "stock_prices = [('APPL',800),('GOOG',1000),('MSFT',900)]\n",
    "for item in stock_prices:\n",
    "    print(item)"
   ]
  },
  {
   "cell_type": "code",
   "execution_count": 27,
   "id": "b849c47e",
   "metadata": {},
   "outputs": [
    {
     "name": "stdout",
     "output_type": "stream",
     "text": [
      "APPL\n",
      "GOOG\n",
      "MSFT\n"
     ]
    }
   ],
   "source": [
    "for ticker, price in stock_prices:\n",
    "    print(ticker)"
   ]
  },
  {
   "cell_type": "code",
   "execution_count": 28,
   "id": "5545594b",
   "metadata": {},
   "outputs": [
    {
     "data": {
      "text/plain": [
       "\"tick = ''\\nvalue = 0\\nfor ticker,price in stock_prices:\\n    if price > value:\\n        tick = ticker\\n        value = price\\n        print(tick)\\n        print(value)\""
      ]
     },
     "execution_count": 28,
     "metadata": {},
     "output_type": "execute_result"
    }
   ],
   "source": [
    "'''tick = ''\n",
    "value = 0\n",
    "for ticker,price in stock_prices:\n",
    "    if price > value:\n",
    "        tick = ticker\n",
    "        value = price\n",
    "        print(tick)\n",
    "        print(value)'''"
   ]
  },
  {
   "cell_type": "code",
   "execution_count": 29,
   "id": "616f0c88",
   "metadata": {},
   "outputs": [],
   "source": [
    "##Using function\n",
    "\n",
    "def stock_market(stock):\n",
    "    tick = ''\n",
    "    value = 0\n",
    "    for ticker,price in stock_prices:\n",
    "        if price > value:\n",
    "            tick = ticker\n",
    "            value = price\n",
    "    \n",
    "    return tick\n",
    "        "
   ]
  },
  {
   "cell_type": "code",
   "execution_count": 30,
   "id": "1f9b6cdb",
   "metadata": {},
   "outputs": [
    {
     "data": {
      "text/plain": [
       "'GOOG'"
      ]
     },
     "execution_count": 30,
     "metadata": {},
     "output_type": "execute_result"
    }
   ],
   "source": [
    "stock_market(stock_prices)"
   ]
  },
  {
   "cell_type": "markdown",
   "id": "d6b6e54a",
   "metadata": {},
   "source": [
    "Interaction between Functions\n",
    "\n",
    "Let's create a few functions to mimic the carnival guessing game \"Three Cup Monte\""
   ]
  },
  {
   "cell_type": "code",
   "execution_count": 31,
   "id": "73d00f4d",
   "metadata": {},
   "outputs": [],
   "source": [
    "Example  = [1,2,3,4,45,66,3,7,8]"
   ]
  },
  {
   "cell_type": "code",
   "execution_count": 32,
   "id": "28950820",
   "metadata": {},
   "outputs": [],
   "source": [
    "from random import shuffle"
   ]
  },
  {
   "cell_type": "code",
   "execution_count": 33,
   "id": "68015344",
   "metadata": {},
   "outputs": [],
   "source": [
    "shuffle(Example)"
   ]
  },
  {
   "cell_type": "code",
   "execution_count": 34,
   "id": "f13814ab",
   "metadata": {},
   "outputs": [
    {
     "data": {
      "text/plain": [
       "[7, 45, 3, 4, 2, 8, 66, 1, 3]"
      ]
     },
     "execution_count": 34,
     "metadata": {},
     "output_type": "execute_result"
    }
   ],
   "source": [
    "Example"
   ]
  },
  {
   "cell_type": "code",
   "execution_count": 35,
   "id": "8a7ab713",
   "metadata": {},
   "outputs": [],
   "source": [
    "def shuffle_list(mylist):\n",
    "    shuffle(mylist)\n",
    "    return mylist\n",
    "    "
   ]
  },
  {
   "cell_type": "code",
   "execution_count": 36,
   "id": "570337c6",
   "metadata": {},
   "outputs": [
    {
     "data": {
      "text/plain": [
       "['Achachan', 'Amma', 'Appa', 'Chinnu', 'Lucy']"
      ]
     },
     "execution_count": 36,
     "metadata": {},
     "output_type": "execute_result"
    }
   ],
   "source": [
    "mylist = [\"Appa\",\"Amma\",\"Achachan\",\"Lucy\",\"Chinnu\"]\n",
    "result = shuffle_list(mylist)\n",
    "result"
   ]
  },
  {
   "cell_type": "markdown",
   "id": "a0a946ba",
   "metadata": {},
   "source": [
    "# Game \"Three Cup Monte\""
   ]
  },
  {
   "cell_type": "code",
   "execution_count": 37,
   "id": "fa94e298",
   "metadata": {},
   "outputs": [],
   "source": [
    "# Make a list of 3 options\n",
    "\n",
    "Option_list = [\"O\",\"\",\"\"]\n"
   ]
  },
  {
   "cell_type": "code",
   "execution_count": 38,
   "id": "6c9a16e3",
   "metadata": {},
   "outputs": [],
   "source": [
    "# Create a function for shuffle list\n",
    "\n",
    "def shuffle_Olist(Olist):\n",
    "    shuffle(Olist)\n",
    "    return Olist\n",
    "    "
   ]
  },
  {
   "cell_type": "code",
   "execution_count": 39,
   "id": "d766e764",
   "metadata": {},
   "outputs": [
    {
     "data": {
      "text/plain": [
       "['', 'O', '']"
      ]
     },
     "execution_count": 39,
     "metadata": {},
     "output_type": "execute_result"
    }
   ],
   "source": [
    "# Store Shuffled list\n",
    "New_Olist = shuffle_Olist(Option_list)\n",
    "New_Olist"
   ]
  },
  {
   "cell_type": "code",
   "execution_count": 40,
   "id": "217cdc3a",
   "metadata": {},
   "outputs": [],
   "source": [
    "# Create a function for user guess\n",
    "\n",
    "def user_input():\n",
    "    Guess = \"\"\n",
    "    while Guess not in [\"0\",\"1\",\"2\"]:\n",
    "        Guess = input(\"Guess a number 0, 1, 2 :\")\n",
    "    return int(Guess)\n",
    "    "
   ]
  },
  {
   "cell_type": "code",
   "execution_count": 41,
   "id": "7ba1c540",
   "metadata": {},
   "outputs": [
    {
     "name": "stdout",
     "output_type": "stream",
     "text": [
      "Guess a number 0, 1, 2 :1\n"
     ]
    },
    {
     "data": {
      "text/plain": [
       "1"
      ]
     },
     "execution_count": 41,
     "metadata": {},
     "output_type": "execute_result"
    }
   ],
   "source": [
    "user_input()"
   ]
  },
  {
   "cell_type": "code",
   "execution_count": 42,
   "id": "d2f0d037",
   "metadata": {},
   "outputs": [],
   "source": [
    "# Create function for the Checking the guess\n",
    "\n",
    "def check_guess(Olist,Guess):\n",
    "    if Olist[Guess] == 'O':\n",
    "        print (\"Correct\")\n",
    "    else:\n",
    "        print(\"Wrong Guess\")\n",
    "    return Olist"
   ]
  },
  {
   "cell_type": "code",
   "execution_count": 43,
   "id": "2b77385b",
   "metadata": {},
   "outputs": [
    {
     "name": "stdout",
     "output_type": "stream",
     "text": [
      "Guess a number 0, 1, 2 :2\n",
      "Correct\n"
     ]
    },
    {
     "data": {
      "text/plain": [
       "['', '', 'O']"
      ]
     },
     "execution_count": 43,
     "metadata": {},
     "output_type": "execute_result"
    }
   ],
   "source": [
    "### Create the \"Three Cup Monte\" game\n",
    "\n",
    "#Initial List\n",
    "\n",
    "Option_list  = [\"O\",\"\",\"\"]\n",
    "\n",
    "#Shuffled List\n",
    "Mixed_list = shuffle_Olist(Option_list)\n",
    "\n",
    "#User Guess\n",
    "User_guess = user_input()\n",
    "\n",
    "#Checking the guess\n",
    "check_guess(Mixed_list,User_guess)\n"
   ]
  },
  {
   "cell_type": "code",
   "execution_count": 48,
   "id": "7263d722",
   "metadata": {},
   "outputs": [],
   "source": []
  },
  {
   "cell_type": "code",
   "execution_count": null,
   "id": "fe055370",
   "metadata": {},
   "outputs": [],
   "source": []
  },
  {
   "cell_type": "code",
   "execution_count": null,
   "id": "72c5c1b1",
   "metadata": {},
   "outputs": [],
   "source": []
  }
 ],
 "metadata": {
  "kernelspec": {
   "display_name": "Python 3",
   "language": "python",
   "name": "python3"
  },
  "language_info": {
   "codemirror_mode": {
    "name": "ipython",
    "version": 3
   },
   "file_extension": ".py",
   "mimetype": "text/x-python",
   "name": "python",
   "nbconvert_exporter": "python",
   "pygments_lexer": "ipython3",
   "version": "3.8.8"
  }
 },
 "nbformat": 4,
 "nbformat_minor": 5
}
